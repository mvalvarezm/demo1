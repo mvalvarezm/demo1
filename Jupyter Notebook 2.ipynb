{
    "cells": [
        {
            "metadata": {},
            "cell_type": "markdown",
            "source": "# Test 2"
        },
        {
            "metadata": {},
            "cell_type": "code",
            "source": "\nimport os, types\nimport pandas as pd\nfrom botocore.client import Config\nimport ibm_boto3\n\ndef __iter__(self): return 0\n\n# @hidden_cell\n# The following code accesses a file in your IBM Cloud Object Storage. It includes your credentials.\n# You might want to remove those credentials before you share the notebook.\n\nif os.environ.get('RUNTIME_ENV_LOCATION_TYPE') == 'external':\n    endpoint_ebd4263ddff34ec9952913e764c40871 = 'https://s3.us.cloud-object-storage.appdomain.cloud'\nelse:\n    endpoint_ebd4263ddff34ec9952913e764c40871 = 'https://s3.private.us.cloud-object-storage.appdomain.cloud'\n\nclient_ebd4263ddff34ec9952913e764c40871 = ibm_boto3.client(service_name='s3',\n    ibm_api_key_id='a3gU2cHF4zmDuPp95I1ULjIC9TmFWR9H1tRscd8htvhp',\n    ibm_auth_endpoint=\"https://iam.cloud.ibm.com/oidc/token\",\n    config=Config(signature_version='oauth'),\n    endpoint_url=endpoint_ebd4263ddff34ec9952913e764c40871)\n\nbody = client_ebd4263ddff34ec9952913e764c40871.get_object(Bucket='test-donotdelete-pr-rcnzjcfsx8667k',Key='concentracion.csv')['Body']\n# add missing __iter__ method, so pandas accepts body as file-like object\nif not hasattr(body, \"__iter__\"): body.__iter__ = types.MethodType( __iter__, body )\n\ndf_data_1 = pd.read_csv(body)\ndf_data_1.head()\n",
            "execution_count": 1,
            "outputs": [
                {
                    "output_type": "execute_result",
                    "execution_count": 1,
                    "data": {
                        "text/plain": "      conc;rate\n0   2.856;14.58\n1       5;24.74\n2    7.51;31.34\n3  22.101;72.96\n4    27.76;77.5",
                        "text/html": "<div>\n<style scoped>\n    .dataframe tbody tr th:only-of-type {\n        vertical-align: middle;\n    }\n\n    .dataframe tbody tr th {\n        vertical-align: top;\n    }\n\n    .dataframe thead th {\n        text-align: right;\n    }\n</style>\n<table border=\"1\" class=\"dataframe\">\n  <thead>\n    <tr style=\"text-align: right;\">\n      <th></th>\n      <th>conc;rate</th>\n    </tr>\n  </thead>\n  <tbody>\n    <tr>\n      <th>0</th>\n      <td>2.856;14.58</td>\n    </tr>\n    <tr>\n      <th>1</th>\n      <td>5;24.74</td>\n    </tr>\n    <tr>\n      <th>2</th>\n      <td>7.51;31.34</td>\n    </tr>\n    <tr>\n      <th>3</th>\n      <td>22.101;72.96</td>\n    </tr>\n    <tr>\n      <th>4</th>\n      <td>27.76;77.5</td>\n    </tr>\n  </tbody>\n</table>\n</div>"
                    },
                    "metadata": {}
                }
            ]
        },
        {
            "metadata": {},
            "cell_type": "code",
            "source": "\nbody = client_ebd4263ddff34ec9952913e764c40871.get_object(Bucket='test-donotdelete-pr-rcnzjcfsx8667k',Key='insurance.csv')['Body']\n# add missing __iter__ method, so pandas accepts body as file-like object\nif not hasattr(body, \"__iter__\"): body.__iter__ = types.MethodType( __iter__, body )\n\ndf_data_2 = pd.read_csv(body)\ndf_data_2.head()\n",
            "execution_count": 2,
            "outputs": [
                {
                    "output_type": "execute_result",
                    "execution_count": 2,
                    "data": {
                        "text/plain": "   age sex     bmi  children smoker  region      charges\n0   19   M  27.900         0     Si       3  16884.92400\n1   18   H  33.770         1     No       2   1725.55230\n2   28   H  33.000         3     No       2   4449.46200\n3   33   H  22.705         0     No       1  21984.47061\n4   32   H  28.880         0     No       1   3866.85520",
                        "text/html": "<div>\n<style scoped>\n    .dataframe tbody tr th:only-of-type {\n        vertical-align: middle;\n    }\n\n    .dataframe tbody tr th {\n        vertical-align: top;\n    }\n\n    .dataframe thead th {\n        text-align: right;\n    }\n</style>\n<table border=\"1\" class=\"dataframe\">\n  <thead>\n    <tr style=\"text-align: right;\">\n      <th></th>\n      <th>age</th>\n      <th>sex</th>\n      <th>bmi</th>\n      <th>children</th>\n      <th>smoker</th>\n      <th>region</th>\n      <th>charges</th>\n    </tr>\n  </thead>\n  <tbody>\n    <tr>\n      <th>0</th>\n      <td>19</td>\n      <td>M</td>\n      <td>27.900</td>\n      <td>0</td>\n      <td>Si</td>\n      <td>3</td>\n      <td>16884.92400</td>\n    </tr>\n    <tr>\n      <th>1</th>\n      <td>18</td>\n      <td>H</td>\n      <td>33.770</td>\n      <td>1</td>\n      <td>No</td>\n      <td>2</td>\n      <td>1725.55230</td>\n    </tr>\n    <tr>\n      <th>2</th>\n      <td>28</td>\n      <td>H</td>\n      <td>33.000</td>\n      <td>3</td>\n      <td>No</td>\n      <td>2</td>\n      <td>4449.46200</td>\n    </tr>\n    <tr>\n      <th>3</th>\n      <td>33</td>\n      <td>H</td>\n      <td>22.705</td>\n      <td>0</td>\n      <td>No</td>\n      <td>1</td>\n      <td>21984.47061</td>\n    </tr>\n    <tr>\n      <th>4</th>\n      <td>32</td>\n      <td>H</td>\n      <td>28.880</td>\n      <td>0</td>\n      <td>No</td>\n      <td>1</td>\n      <td>3866.85520</td>\n    </tr>\n  </tbody>\n</table>\n</div>"
                    },
                    "metadata": {}
                }
            ]
        },
        {
            "metadata": {},
            "cell_type": "code",
            "source": "",
            "execution_count": null,
            "outputs": []
        }
    ],
    "metadata": {
        "kernelspec": {
            "name": "python3",
            "display_name": "Python 3.8",
            "language": "python"
        },
        "language_info": {
            "name": "python",
            "version": "3.8.12",
            "mimetype": "text/x-python",
            "codemirror_mode": {
                "name": "ipython",
                "version": 3
            },
            "pygments_lexer": "ipython3",
            "nbconvert_exporter": "python",
            "file_extension": ".py"
        }
    },
    "nbformat": 4,
    "nbformat_minor": 1
}